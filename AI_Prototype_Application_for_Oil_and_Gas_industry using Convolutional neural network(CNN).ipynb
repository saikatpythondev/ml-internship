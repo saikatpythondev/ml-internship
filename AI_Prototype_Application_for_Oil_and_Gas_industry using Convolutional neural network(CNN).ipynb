{
 "cells": [
  {
   "cell_type": "code",
   "execution_count": 1,
   "id": "fc22851a",
   "metadata": {},
   "outputs": [],
   "source": [
    "image=\"F:\\download from c to e\\deep_learning seismic\\Seismic_data\\train\""
   ]
  },
  {
   "cell_type": "code",
   "execution_count": 2,
   "id": "a1f0991f",
   "metadata": {},
   "outputs": [],
   "source": [
    "import matplotlib.pyplot as plt\n",
    "import os\n",
    "import cv2\n",
    "from keras.preprocessing import image\n",
    "from keras.preprocessing.image import ImageDataGenerator\n",
    "from skimage import io"
   ]
  },
  {
   "cell_type": "code",
   "execution_count": 5,
   "id": "03ad7a9c",
   "metadata": {},
   "outputs": [
    {
     "data": {
      "text/plain": [
       "['desktop.ini', 'anticline', 'fault', 'salt', 'syncline']"
      ]
     },
     "execution_count": 5,
     "metadata": {},
     "output_type": "execute_result"
    }
   ],
   "source": [
    "os.listdir(r\"G:\\deep_learning seismic\\Seismic_data\\train\")"
   ]
  },
  {
   "cell_type": "markdown",
   "id": "dda0d061",
   "metadata": {},
   "source": [
    "# image argumentation"
   ]
  },
  {
   "cell_type": "code",
   "execution_count": 8,
   "id": "98cae8c8",
   "metadata": {},
   "outputs": [],
   "source": [
    "datagen=ImageDataGenerator(rotation_range=25,\n",
    "    width_shift_range=0.5,\n",
    "    height_shift_range=0.5,\n",
    "    brightness_range=None,\n",
    "    shear_range=0.4,\n",
    "    zoom_range=0.8,\n",
    "    channel_shift_range=0.3,\n",
    "    fill_mode='nearest',\n",
    "    cval=0.3,\n",
    "    horizontal_flip=True,\n",
    "    vertical_flip=True,\n",
    "    rescale=1/255)"
   ]
  },
  {
   "cell_type": "code",
   "execution_count": 9,
   "id": "b89bf086",
   "metadata": {},
   "outputs": [
    {
     "data": {
      "text/plain": [
       "'2020-07-24 13_08_30-anticline - Windows Photo Viewer.jpg'"
      ]
     },
     "execution_count": 9,
     "metadata": {},
     "output_type": "execute_result"
    }
   ],
   "source": [
    "os.listdir(r\"G:\\deep_learning seismic\\Seismic_data\\train\\anticline\")[0]"
   ]
  },
  {
   "cell_type": "markdown",
   "id": "3d7ad83b",
   "metadata": {},
   "source": [
    "# Data Argumentation\n"
   ]
  },
  {
   "cell_type": "code",
   "execution_count": 10,
   "id": "e5f60c73",
   "metadata": {},
   "outputs": [
    {
     "name": "stdout",
     "output_type": "stream",
     "text": [
      "G:\\deep_learning seismic\\Seismic_data\\train\\anticline\\2020-07-24 13_08_30-anticline - Windows Photo Viewer.jpg\n",
      "G:\\deep_learning seismic\\Seismic_data\\train\\anticline\\2020-07-24 13_11_49-anticline - Windows Photo Viewer.jpg\n",
      "G:\\deep_learning seismic\\Seismic_data\\train\\anticline\\2020-07-24 13_24_29-anticline - Windows Photo Viewer.jpg\n",
      "G:\\deep_learning seismic\\Seismic_data\\train\\anticline\\2020-07-24 13_25_06-anticline - Windows Photo Viewer.jpg\n",
      "G:\\deep_learning seismic\\Seismic_data\\train\\anticline\\2020-07-24 13_25_52-anticline - Windows Photo Viewer.jpg\n",
      "G:\\deep_learning seismic\\Seismic_data\\train\\anticline\\2020-07-24 13_26_29-anticline - Windows Photo Viewer.jpg\n",
      "G:\\deep_learning seismic\\Seismic_data\\train\\anticline\\2020-07-24 13_26_56-anticline - Windows Photo Viewer.jpg\n",
      "G:\\deep_learning seismic\\Seismic_data\\train\\anticline\\2020-07-24 13_27_19-anticline - Windows Photo Viewer.jpg\n",
      "G:\\deep_learning seismic\\Seismic_data\\train\\anticline\\2020-07-24 13_27_58-anticline - Windows Photo Viewer.jpg\n",
      "G:\\deep_learning seismic\\Seismic_data\\train\\anticline\\2020-07-24 13_29_37-download (1) - Windows Photo Viewer.jpg\n",
      "G:\\deep_learning seismic\\Seismic_data\\train\\anticline\\2020-07-24 13_30_01-download (1) - Windows Photo Viewer.jpg\n",
      "G:\\deep_learning seismic\\Seismic_data\\train\\anticline\\2020-07-24 13_30_16-download (1) - Windows Photo Viewer.jpg\n",
      "G:\\deep_learning seismic\\Seismic_data\\train\\anticline\\2020-07-24 13_30_36-download (1) - Windows Photo Viewer.jpg\n",
      "G:\\deep_learning seismic\\Seismic_data\\train\\anticline\\2020-07-24 13_31_51-download (3) - Windows Photo Viewer.jpg\n",
      "G:\\deep_learning seismic\\Seismic_data\\train\\anticline\\2020-07-24 13_32_13-download (3) - Windows Photo Viewer.jpg\n",
      "G:\\deep_learning seismic\\Seismic_data\\train\\anticline\\2020-07-24 13_32_50-download (4) - Windows Photo Viewer.jpg\n",
      "G:\\deep_learning seismic\\Seismic_data\\train\\anticline\\2020-07-24 13_33_08-download (4) - Windows Photo Viewer.jpg\n",
      "G:\\deep_learning seismic\\Seismic_data\\train\\anticline\\2020-07-24 13_33_35-download (5) - Windows Photo Viewer.jpg\n",
      "G:\\deep_learning seismic\\Seismic_data\\train\\anticline\\2020-07-24 13_33_51-download (5) - Windows Photo Viewer.jpg\n",
      "G:\\deep_learning seismic\\Seismic_data\\train\\anticline\\2020-07-24 13_34_10-download (5) - Windows Photo Viewer.jpg\n",
      "G:\\deep_learning seismic\\Seismic_data\\train\\anticline\\2020-07-24 13_34_28-download (5) - Windows Photo Viewer.jpg\n",
      "G:\\deep_learning seismic\\Seismic_data\\train\\anticline\\2020-07-24 13_35_04-download (5) - Windows Photo Viewer.jpg\n",
      "G:\\deep_learning seismic\\Seismic_data\\train\\anticline\\2020-07-24 13_36_11-download (6) - Windows Photo Viewer.jpg\n",
      "G:\\deep_learning seismic\\Seismic_data\\train\\anticline\\2020-07-24 13_36_22-download (6) - Windows Photo Viewer.jpg\n",
      "G:\\deep_learning seismic\\Seismic_data\\train\\anticline\\2020-07-24 13_36_54-download (6) - Windows Photo Viewer.jpg\n",
      "G:\\deep_learning seismic\\Seismic_data\\train\\anticline\\2020-07-24 13_37_38-download (8) - Windows Photo Viewer.jpg\n",
      "G:\\deep_learning seismic\\Seismic_data\\train\\anticline\\2020-07-24 13_38_04-download (8) - Windows Photo Viewer.jpg\n",
      "G:\\deep_learning seismic\\Seismic_data\\train\\anticline\\2020-07-24 13_39_06-download (9) - Windows Photo Viewer.jpg\n",
      "G:\\deep_learning seismic\\Seismic_data\\train\\anticline\\2020-07-24 13_39_19-download (9) - Windows Photo Viewer.jpg\n",
      "G:\\deep_learning seismic\\Seismic_data\\train\\anticline\\2020-07-24 13_39_32-download (9) - Windows Photo Viewer.jpg\n",
      "G:\\deep_learning seismic\\Seismic_data\\train\\anticline\\2020-07-24 13_39_55-download (9) - Windows Photo Viewer.jpg\n",
      "G:\\deep_learning seismic\\Seismic_data\\train\\anticline\\2020-07-24 13_40_11-download (9) - Windows Photo Viewer.jpg\n",
      "G:\\deep_learning seismic\\Seismic_data\\train\\anticline\\2020-07-24 13_40_48-download (10) - Windows Photo Viewer.jpg\n",
      "G:\\deep_learning seismic\\Seismic_data\\train\\anticline\\2020-07-24 13_40_58-download (10) - Windows Photo Viewer.jpg\n",
      "G:\\deep_learning seismic\\Seismic_data\\train\\anticline\\2020-07-24 13_41_13-download (10) - Windows Photo Viewer.jpg\n",
      "G:\\deep_learning seismic\\Seismic_data\\train\\anticline\\2020-07-24 13_41_28-download (10) - Windows Photo Viewer.jpg\n",
      "G:\\deep_learning seismic\\Seismic_data\\train\\anticline\\2020-07-24 13_41_42-download (10) - Windows Photo Viewer.jpg\n",
      "G:\\deep_learning seismic\\Seismic_data\\train\\anticline\\2020-07-24 13_42_05-download (11) - Windows Photo Viewer.jpg\n",
      "G:\\deep_learning seismic\\Seismic_data\\train\\anticline\\2020-07-24 13_42_15-download (11) - Windows Photo Viewer.jpg\n",
      "G:\\deep_learning seismic\\Seismic_data\\train\\anticline\\2020-07-24 13_42_34-download (11) - Windows Photo Viewer.jpg\n",
      "G:\\deep_learning seismic\\Seismic_data\\train\\anticline\\2020-07-24 13_42_49-download (11) - Windows Photo Viewer.jpg\n",
      "G:\\deep_learning seismic\\Seismic_data\\train\\anticline\\2020-07-24 13_43_02-download (11) - Windows Photo Viewer.jpg\n",
      "G:\\deep_learning seismic\\Seismic_data\\train\\anticline\\2020-07-24 13_43_30-download (13) - Windows Photo Viewer.jpg\n",
      "G:\\deep_learning seismic\\Seismic_data\\train\\anticline\\2020-07-24 13_43_45-download (13) - Windows Photo Viewer.jpg\n",
      "G:\\deep_learning seismic\\Seismic_data\\train\\anticline\\2020-07-24 13_44_00-download (14) - Windows Photo Viewer.jpg\n",
      "G:\\deep_learning seismic\\Seismic_data\\train\\anticline\\2020-07-24 13_44_30-download (14) - Windows Photo Viewer.jpg\n",
      "G:\\deep_learning seismic\\Seismic_data\\train\\anticline\\2020-07-24 13_45_02-download (14) - Windows Photo Viewer.jpg\n",
      "G:\\deep_learning seismic\\Seismic_data\\train\\anticline\\2020-07-24 13_45_16-download (14) - Windows Photo Viewer.jpg\n",
      "G:\\deep_learning seismic\\Seismic_data\\train\\anticline\\2020-07-24 13_45_35-download - Windows Photo Viewer.jpg\n",
      "G:\\deep_learning seismic\\Seismic_data\\train\\anticline\\2020-07-24 13_45_48-download - Windows Photo Viewer.jpg\n",
      "G:\\deep_learning seismic\\Seismic_data\\train\\anticline\\2020-07-24 13_46_18-download - Windows Photo Viewer.jpg\n",
      "G:\\deep_learning seismic\\Seismic_data\\train\\anticline\\2020-07-24 13_46_39-FlatSpotPickthis1 - Windows Photo Viewer.jpg\n",
      "G:\\deep_learning seismic\\Seismic_data\\train\\anticline\\2020-07-24 13_46_49-FlatSpotPickthis1 - Windows Photo Viewer.jpg\n",
      "G:\\deep_learning seismic\\Seismic_data\\train\\anticline\\2020-07-24 13_46_59-FlatSpotPickthis1 - Windows Photo Viewer.jpg\n",
      "G:\\deep_learning seismic\\Seismic_data\\train\\anticline\\2020-07-24 13_47_08-FlatSpotPickthis1 - Windows Photo Viewer.jpg\n",
      "G:\\deep_learning seismic\\Seismic_data\\train\\anticline\\2020-07-24 13_47_31-images (1) - Windows Photo Viewer.jpg\n",
      "G:\\deep_learning seismic\\Seismic_data\\train\\anticline\\2020-07-24 13_47_41-images (1) - Windows Photo Viewer.jpg\n",
      "G:\\deep_learning seismic\\Seismic_data\\train\\anticline\\2020-07-24 13_47_55-images (1) - Windows Photo Viewer.jpg\n",
      "G:\\deep_learning seismic\\Seismic_data\\train\\anticline\\2020-07-24 13_48_49-images (3) - Windows Photo Viewer.jpg\n",
      "G:\\deep_learning seismic\\Seismic_data\\train\\anticline\\2020-07-24 13_49_06-images (3) - Windows Photo Viewer.jpg\n"
     ]
    }
   ],
   "source": [
    "for i in range(len(os.listdir(r\"G:\\deep_learning seismic\\Seismic_data\\train\\anticline\"))):\n",
    "    x=os.path.join(\"G:\\\\deep_learning seismic\\\\Seismic_data\\\\train\\\\anticline\",os.listdir(r\"G:\\\\deep_learning seismic\\\\Seismic_data\\\\train\\\\anticline\")[i])\n",
    "    print(x)\n",
    "    x=io.imread(x)\n",
    "    \n",
    "    x=x.reshape((1,)+x.shape)\n",
    "    i=0\n",
    "    for batch in datagen.flow(x,save_to_dir=r\"G:\\deep\\seismic\\train\\anticline\"):\n",
    "        i=i+1\n",
    "        if i>3:\n",
    "            break"
   ]
  },
  {
   "cell_type": "code",
   "execution_count": 11,
   "id": "727917df",
   "metadata": {},
   "outputs": [
    {
     "name": "stdout",
     "output_type": "stream",
     "text": [
      "G:\\deep_learning seismic\\Seismic_data\\train\\fault\\2020-07-24 17_29_36-190917-web-geoexpro-presalt-petroleum-systems-in-atlantic-basins--fig3-860px - W.jpg\n",
      "G:\\deep_learning seismic\\Seismic_data\\train\\fault\\2020-07-24 17_29_56-190917-web-geoexpro-presalt-petroleum-systems-in-atlantic-basins--fig3-860px - W.jpg\n",
      "G:\\deep_learning seismic\\Seismic_data\\train\\fault\\2020-07-24 17_30_15-190917-web-geoexpro-presalt-petroleum-systems-in-atlantic-basins--fig3-860px - W.jpg\n",
      "G:\\deep_learning seismic\\Seismic_data\\train\\fault\\2020-07-24 17_30_47-after-seismic-2 - Windows Photo Viewer.jpg\n",
      "G:\\deep_learning seismic\\Seismic_data\\train\\fault\\2020-07-24 17_31_19-after-seismic-2 - Windows Photo Viewer.jpg\n",
      "G:\\deep_learning seismic\\Seismic_data\\train\\fault\\2020-07-24 17_32_19-seismic_a3_greyscale - Windows Photo Viewer.jpg\n",
      "G:\\deep_learning seismic\\Seismic_data\\train\\fault\\2020-07-24 17_32_28-seismic_a3_greyscale - Windows Photo Viewer.jpg\n",
      "G:\\deep_learning seismic\\Seismic_data\\train\\fault\\2020-07-24 17_32_37-seismic_a3_greyscale - Windows Photo Viewer.jpg\n",
      "G:\\deep_learning seismic\\Seismic_data\\train\\fault\\2020-07-24 17_32_46-seismic_a3_greyscale - Windows Photo Viewer.jpg\n",
      "G:\\deep_learning seismic\\Seismic_data\\train\\fault\\2020-07-24 17_32_56-seismic_a3_greyscale - Windows Photo Viewer.jpg\n",
      "G:\\deep_learning seismic\\Seismic_data\\train\\fault\\2020-07-24 17_33_09-seismic_a3_greyscale - Windows Photo Viewer.jpg\n",
      "G:\\deep_learning seismic\\Seismic_data\\train\\fault\\2020-07-24 17_33_17-seismic_a3_greyscale - Windows Photo Viewer.jpg\n",
      "G:\\deep_learning seismic\\Seismic_data\\train\\fault\\2020-07-24 17_33_24-seismic_a3_greyscale - Windows Photo Viewer.jpg\n",
      "G:\\deep_learning seismic\\Seismic_data\\train\\fault\\2020-07-24 17_33_38-seismic_a3_greyscale - Windows Photo Viewer.jpg\n",
      "G:\\deep_learning seismic\\Seismic_data\\train\\fault\\2020-07-24 17_33_54-seismic_a3_greyscale - Windows Photo Viewer.jpg\n",
      "G:\\deep_learning seismic\\Seismic_data\\train\\fault\\2020-07-24 17_34_02-seismic_a3_greyscale - Windows Photo Viewer.jpg\n",
      "G:\\deep_learning seismic\\Seismic_data\\train\\fault\\2020-07-24 17_34_12-seismic_a3_greyscale - Windows Photo Viewer.jpg\n",
      "G:\\deep_learning seismic\\Seismic_data\\train\\fault\\2020-07-24 17_34_28-seismic_a3_greyscale - Windows Photo Viewer.jpg\n",
      "G:\\deep_learning seismic\\Seismic_data\\train\\fault\\2020-07-24 17_34_59-seismic_a3_greyscale - Windows Photo Viewer.jpg\n",
      "G:\\deep_learning seismic\\Seismic_data\\train\\fault\\2020-07-24 17_35_26-seismic_a3_colour - Windows Photo Viewer.jpg\n",
      "G:\\deep_learning seismic\\Seismic_data\\train\\fault\\2020-07-24 17_35_36-seismic_a3_colour - Windows Photo Viewer.jpg\n",
      "G:\\deep_learning seismic\\Seismic_data\\train\\fault\\2020-07-24 17_37_21-download (3) - Windows Photo Viewer.jpg\n",
      "G:\\deep_learning seismic\\Seismic_data\\train\\fault\\2020-07-24 17_37_47-download (5) - Windows Photo Viewer.jpg\n",
      "G:\\deep_learning seismic\\Seismic_data\\train\\fault\\2020-07-24 17_38_05-download (6) - Windows Photo Viewer.jpg\n",
      "G:\\deep_learning seismic\\Seismic_data\\train\\fault\\2020-07-24 17_38_24-download (7) - Windows Photo Viewer.jpg\n",
      "G:\\deep_learning seismic\\Seismic_data\\train\\fault\\2020-07-24 17_38_44-download (7) - Windows Photo Viewer.jpg\n",
      "G:\\deep_learning seismic\\Seismic_data\\train\\fault\\2020-07-24 17_38_53-download (7) - Windows Photo Viewer.jpg\n",
      "G:\\deep_learning seismic\\Seismic_data\\train\\fault\\2020-07-24 17_39_21-download (8) - Windows Photo Viewer.jpg\n",
      "G:\\deep_learning seismic\\Seismic_data\\train\\fault\\2020-07-24 17_39_48-download (9) - Windows Photo Viewer.jpg\n",
      "G:\\deep_learning seismic\\Seismic_data\\train\\fault\\2020-07-24 17_40_09-download (10) - Windows Photo Viewer.jpg\n",
      "G:\\deep_learning seismic\\Seismic_data\\train\\fault\\2020-07-24 17_43_49-Seismic-trace-image-of-inline-100-of-the-Netherlands-Offshore-F3-Block-dataset-a.jpg\n",
      "G:\\deep_learning seismic\\Seismic_data\\train\\fault\\2020-07-24 17_44_00-Seismic-trace-image-of-inline-100-of-the-Netherlands-Offshore-F3-Block-dataset-a.jpg\n",
      "G:\\deep_learning seismic\\Seismic_data\\train\\fault\\2020-07-24 17_44_08-Seismic-trace-image-of-inline-100-of-the-Netherlands-Offshore-F3-Block-dataset-a.jpg\n",
      "G:\\deep_learning seismic\\Seismic_data\\train\\fault\\2020-07-24 17_44_47-Seismic-trace-image-of-inline-100-of-the-Netherlands-Offshore-F3-Block-dataset-a.jpg\n",
      "G:\\deep_learning seismic\\Seismic_data\\train\\fault\\2020-07-24 17_45_44-download (15) - Windows Photo Viewer.jpg\n",
      "G:\\deep_learning seismic\\Seismic_data\\train\\fault\\2020-07-24 17_45_56-download (15) - Windows Photo Viewer.jpg\n",
      "G:\\deep_learning seismic\\Seismic_data\\train\\fault\\2020-07-24 17_46_06-download (15) - Windows Photo Viewer.jpg\n",
      "G:\\deep_learning seismic\\Seismic_data\\train\\fault\\2020-07-24 17_46_16-download (15) - Windows Photo Viewer.jpg\n",
      "G:\\deep_learning seismic\\Seismic_data\\train\\fault\\2020-07-24 17_46_32-download (16) - Windows Photo Viewer.jpg\n",
      "G:\\deep_learning seismic\\Seismic_data\\train\\fault\\2020-07-24 17_46_54-download (18) - Windows Photo Viewer.jpg\n",
      "G:\\deep_learning seismic\\Seismic_data\\train\\fault\\2020-07-24 17_47_26-download (18) - Windows Photo Viewer.jpg\n",
      "G:\\deep_learning seismic\\Seismic_data\\train\\fault\\2020-07-24 17_47_34-download (18) - Windows Photo Viewer.jpg\n",
      "G:\\deep_learning seismic\\Seismic_data\\train\\fault\\2020-07-24 17_47_42-download (18) - Windows Photo Viewer.jpg\n",
      "G:\\deep_learning seismic\\Seismic_data\\train\\fault\\2020-07-24 17_47_50-download (18) - Windows Photo Viewer.jpg\n",
      "G:\\deep_learning seismic\\Seismic_data\\train\\fault\\2020-07-24 17_48_03-download (19) - Windows Photo Viewer.jpg\n",
      "G:\\deep_learning seismic\\Seismic_data\\train\\fault\\2020-07-24 17_48_25-download (20) - Windows Photo Viewer.jpg\n",
      "G:\\deep_learning seismic\\Seismic_data\\train\\fault\\2020-07-24 17_48_37-download (20) - Windows Photo Viewer.jpg\n",
      "G:\\deep_learning seismic\\Seismic_data\\train\\fault\\2020-07-24 17_48_51-download (21) - Windows Photo Viewer.jpg\n",
      "G:\\deep_learning seismic\\Seismic_data\\train\\fault\\2020-07-24 17_49_04-download (21) - Windows Photo Viewer.jpg\n",
      "G:\\deep_learning seismic\\Seismic_data\\train\\fault\\2020-07-24 17_49_11-download (21) - Windows Photo Viewer.jpg\n",
      "G:\\deep_learning seismic\\Seismic_data\\train\\fault\\2020-07-24 17_49_50-fault_example_no_fault - Windows Photo Viewer.jpg\n",
      "G:\\deep_learning seismic\\Seismic_data\\train\\fault\\2020-07-24 17_50_00-fault_example_no_fault - Windows Photo Viewer.jpg\n",
      "G:\\deep_learning seismic\\Seismic_data\\train\\fault\\2020-07-24 17_50_06-fault_example_no_fault - Windows Photo Viewer.jpg\n",
      "G:\\deep_learning seismic\\Seismic_data\\train\\fault\\2020-07-24 17_50_12-fault_example_no_fault - Windows Photo Viewer.jpg\n",
      "G:\\deep_learning seismic\\Seismic_data\\train\\fault\\2020-07-24 17_50_19-fault_example_no_fault - Windows Photo Viewer.jpg\n",
      "G:\\deep_learning seismic\\Seismic_data\\train\\fault\\2020-07-24 17_52_08-Figure-1 - Windows Photo Viewer.jpg\n",
      "G:\\deep_learning seismic\\Seismic_data\\train\\fault\\2020-07-24 17_52_48-images (1) - Windows Photo Viewer.jpg\n",
      "G:\\deep_learning seismic\\Seismic_data\\train\\fault\\2020-07-24 17_52_58-images (1) - Windows Photo Viewer.jpg\n",
      "G:\\deep_learning seismic\\Seismic_data\\train\\fault\\2020-07-24 17_53_08-images (1) - Windows Photo Viewer.jpg\n",
      "G:\\deep_learning seismic\\Seismic_data\\train\\fault\\2020-07-24 17_53_19-images (1) - Windows Photo Viewer.jpg\n",
      "G:\\deep_learning seismic\\Seismic_data\\train\\fault\\2020-07-24 17_53_30-images (1) - Windows Photo Viewer.jpg\n",
      "G:\\deep_learning seismic\\Seismic_data\\train\\fault\\2020-07-24 17_53_44-images (2) - Windows Photo Viewer.jpg\n",
      "G:\\deep_learning seismic\\Seismic_data\\train\\fault\\2020-07-24 17_53_52-images (2) - Windows Photo Viewer.jpg\n",
      "G:\\deep_learning seismic\\Seismic_data\\train\\fault\\2020-07-24 17_54_50-images (4) - Windows Photo Viewer.jpg\n",
      "G:\\deep_learning seismic\\Seismic_data\\train\\fault\\2020-07-24 17_55_04-images (4) - Windows Photo Viewer.jpg\n",
      "G:\\deep_learning seismic\\Seismic_data\\train\\fault\\2020-07-24 17_55_17-images (5) - Windows Photo Viewer.jpg\n",
      "G:\\deep_learning seismic\\Seismic_data\\train\\fault\\2020-07-24 17_55_27-images (5) - Windows Photo Viewer.jpg\n",
      "G:\\deep_learning seismic\\Seismic_data\\train\\fault\\2020-07-24 17_55_36-images (5) - Windows Photo Viewer.jpg\n",
      "G:\\deep_learning seismic\\Seismic_data\\train\\fault\\2020-07-24 17_55_49-images (6) - Windows Photo Viewer.jpg\n",
      "G:\\deep_learning seismic\\Seismic_data\\train\\fault\\2020-07-24 17_55_58-images (6) - Windows Photo Viewer.jpg\n",
      "G:\\deep_learning seismic\\Seismic_data\\train\\fault\\2020-07-24 17_56_19-images (9) - Windows Photo Viewer.jpg\n",
      "G:\\deep_learning seismic\\Seismic_data\\train\\fault\\2020-07-24 17_56_32-images (10) - Windows Photo Viewer.jpg\n",
      "G:\\deep_learning seismic\\Seismic_data\\train\\fault\\2020-07-24 17_56_59-images (10) - Windows Photo Viewer.jpg\n",
      "G:\\deep_learning seismic\\Seismic_data\\train\\fault\\2020-07-24 17_57_12-images (10) - Windows Photo Viewer.jpg\n"
     ]
    }
   ],
   "source": [
    "for i in range(len(os.listdir(r\"G:\\deep_learning seismic\\Seismic_data\\train\\fault\"))):\n",
    "    x=os.path.join(\"G:\\\\deep_learning seismic\\\\Seismic_data\\\\train\\\\fault\",os.listdir(r\"G:\\\\deep_learning seismic\\\\Seismic_data\\\\train\\\\fault\")[i])\n",
    "    print(x)\n",
    "    x=io.imread(x)\n",
    "    \n",
    "    x=x.reshape((1,)+x.shape)\n",
    "    i=0\n",
    "    for batch in datagen.flow(x,save_to_dir=r\"G:\\deep\\seismic\\train\\fault\"):\n",
    "        i=i+1\n",
    "        if i>3:\n",
    "            break"
   ]
  },
  {
   "cell_type": "code",
   "execution_count": 12,
   "id": "5448e5e9",
   "metadata": {},
   "outputs": [
    {
     "name": "stdout",
     "output_type": "stream",
     "text": [
      "G:\\deep_learning seismic\\Seismic_data\\train\\salt\\2020-07-24 21_59_24-download (1) - Windows Photo Viewer.jpg\n",
      "G:\\deep_learning seismic\\Seismic_data\\train\\salt\\2020-07-24 21_59_50-download (2) - Windows Photo Viewer.jpg\n",
      "G:\\deep_learning seismic\\Seismic_data\\train\\salt\\2020-07-24 22_00_07-download (2) - Windows Photo Viewer.jpg\n",
      "G:\\deep_learning seismic\\Seismic_data\\train\\salt\\2020-07-24 22_00_25-download (3) - Windows Photo Viewer.jpg\n",
      "G:\\deep_learning seismic\\Seismic_data\\train\\salt\\2020-07-24 22_00_48-download (4) - Windows Photo Viewer.jpg\n",
      "G:\\deep_learning seismic\\Seismic_data\\train\\salt\\2020-07-24 22_01_03-download (4) - Windows Photo Viewer.jpg\n",
      "G:\\deep_learning seismic\\Seismic_data\\train\\salt\\2020-07-24 22_01_16-download (5) - Windows Photo Viewer.jpg\n",
      "G:\\deep_learning seismic\\Seismic_data\\train\\salt\\2020-07-24 22_01_28-download (6) - Windows Photo Viewer.jpg\n",
      "G:\\deep_learning seismic\\Seismic_data\\train\\salt\\2020-07-24 22_01_35-download (6) - Windows Photo Viewer.jpg\n",
      "G:\\deep_learning seismic\\Seismic_data\\train\\salt\\2020-07-24 22_01_47-download (6) - Windows Photo Viewer.jpg\n",
      "G:\\deep_learning seismic\\Seismic_data\\train\\salt\\2020-07-24 22_02_01-download (7) - Windows Photo Viewer.jpg\n",
      "G:\\deep_learning seismic\\Seismic_data\\train\\salt\\2020-07-24 22_02_24-download (8) - Windows Photo Viewer.jpg\n",
      "G:\\deep_learning seismic\\Seismic_data\\train\\salt\\2020-07-24 22_02_41-download (9) - Windows Photo Viewer.jpg\n",
      "G:\\deep_learning seismic\\Seismic_data\\train\\salt\\2020-07-24 22_02_56-download (10) - Windows Photo Viewer.jpg\n",
      "G:\\deep_learning seismic\\Seismic_data\\train\\salt\\2020-07-24 22_03_09-download - Windows Photo Viewer.jpg\n",
      "G:\\deep_learning seismic\\Seismic_data\\train\\salt\\2020-07-24 22_03_20-download - Windows Photo Viewer.jpg\n",
      "G:\\deep_learning seismic\\Seismic_data\\train\\salt\\2020-07-24 22_03_36-images (1) - Windows Photo Viewer.jpg\n",
      "G:\\deep_learning seismic\\Seismic_data\\train\\salt\\2020-07-24 22_03_45-images (1) - Windows Photo Viewer.jpg\n",
      "G:\\deep_learning seismic\\Seismic_data\\train\\salt\\2020-07-24 22_03_54-images (1) - Windows Photo Viewer.jpg\n",
      "G:\\deep_learning seismic\\Seismic_data\\train\\salt\\2020-07-24 22_04_02-images (1) - Windows Photo Viewer.jpg\n",
      "G:\\deep_learning seismic\\Seismic_data\\train\\salt\\2020-07-24 22_04_19-images (2) - Windows Photo Viewer.jpg\n",
      "G:\\deep_learning seismic\\Seismic_data\\train\\salt\\2020-07-24 22_04_31-images (2) - Windows Photo Viewer.jpg\n",
      "G:\\deep_learning seismic\\Seismic_data\\train\\salt\\2020-07-24 22_04_47-images (2) - Windows Photo Viewer.jpg\n",
      "G:\\deep_learning seismic\\Seismic_data\\train\\salt\\2020-07-24 22_04_53-images (2) - Windows Photo Viewer.jpg\n",
      "G:\\deep_learning seismic\\Seismic_data\\train\\salt\\2020-07-24 22_05_06-images (3) - Windows Photo Viewer.jpg\n",
      "G:\\deep_learning seismic\\Seismic_data\\train\\salt\\2020-07-24 22_05_27-images (4) - Windows Photo Viewer.jpg\n",
      "G:\\deep_learning seismic\\Seismic_data\\train\\salt\\2020-07-24 22_05_59-images (7) - Windows Photo Viewer.jpg\n",
      "G:\\deep_learning seismic\\Seismic_data\\train\\salt\\2020-07-24 22_06_08-images (7) - Windows Photo Viewer.jpg\n",
      "G:\\deep_learning seismic\\Seismic_data\\train\\salt\\2020-07-24 22_06_44-images (9) - Windows Photo Viewer.jpg\n",
      "G:\\deep_learning seismic\\Seismic_data\\train\\salt\\2020-07-24 22_06_55-images (10) - Windows Photo Viewer.jpg\n",
      "G:\\deep_learning seismic\\Seismic_data\\train\\salt\\2020-07-24 22_07_07-images (10) - Windows Photo Viewer.jpg\n",
      "G:\\deep_learning seismic\\Seismic_data\\train\\salt\\2020-07-24 22_07_21-images (11) - Windows Photo Viewer.jpg\n",
      "G:\\deep_learning seismic\\Seismic_data\\train\\salt\\2020-07-24 22_07_33-images (11) - Windows Photo Viewer.jpg\n",
      "G:\\deep_learning seismic\\Seismic_data\\train\\salt\\2020-07-24 22_07_44-images (12) - Windows Photo Viewer.jpg\n",
      "G:\\deep_learning seismic\\Seismic_data\\train\\salt\\2020-07-24 22_07_51-images (12) - Windows Photo Viewer.jpg\n",
      "G:\\deep_learning seismic\\Seismic_data\\train\\salt\\2020-07-24 22_08_00-images (12) - Windows Photo Viewer.jpg\n",
      "G:\\deep_learning seismic\\Seismic_data\\train\\salt\\2020-07-24 22_08_10-images (12) - Windows Photo Viewer.jpg\n",
      "G:\\deep_learning seismic\\Seismic_data\\train\\salt\\2020-07-24 22_08_22-images (13) - Windows Photo Viewer.jpg\n",
      "G:\\deep_learning seismic\\Seismic_data\\train\\salt\\2020-07-24 22_08_30-images (13) - Windows Photo Viewer.jpg\n",
      "G:\\deep_learning seismic\\Seismic_data\\train\\salt\\2020-07-24 22_08_42-images (14) - Windows Photo Viewer.jpg\n",
      "G:\\deep_learning seismic\\Seismic_data\\train\\salt\\2020-07-24 22_08_51-images (14) - Windows Photo Viewer.jpg\n",
      "G:\\deep_learning seismic\\Seismic_data\\train\\salt\\2020-07-24 22_09_02-images (15) - Windows Photo Viewer.jpg\n",
      "G:\\deep_learning seismic\\Seismic_data\\train\\salt\\2020-07-24 22_09_09-images (15) - Windows Photo Viewer.jpg\n",
      "G:\\deep_learning seismic\\Seismic_data\\train\\salt\\2020-07-24 22_09_19-images (16) - Windows Photo Viewer.jpg\n",
      "G:\\deep_learning seismic\\Seismic_data\\train\\salt\\2020-07-24 22_09_28-images (16) - Windows Photo Viewer.jpg\n",
      "G:\\deep_learning seismic\\Seismic_data\\train\\salt\\2020-07-24 22_09_54-images (16) - Windows Photo Viewer.jpg\n",
      "G:\\deep_learning seismic\\Seismic_data\\train\\salt\\2020-07-24 22_10_03-images (16) - Windows Photo Viewer.jpg\n",
      "G:\\deep_learning seismic\\Seismic_data\\train\\salt\\2020-07-24 22_10_15-images (17) - Windows Photo Viewer.jpg\n",
      "G:\\deep_learning seismic\\Seismic_data\\train\\salt\\2020-07-24 22_10_23-images (17) - Windows Photo Viewer.jpg\n",
      "G:\\deep_learning seismic\\Seismic_data\\train\\salt\\2020-07-24 22_10_31-images (17) - Windows Photo Viewer.jpg\n",
      "G:\\deep_learning seismic\\Seismic_data\\train\\salt\\2020-07-24 22_10_38-images (17) - Windows Photo Viewer.jpg\n",
      "G:\\deep_learning seismic\\Seismic_data\\train\\salt\\2020-07-24 22_10_53-images (18) - Windows Photo Viewer.jpg\n",
      "G:\\deep_learning seismic\\Seismic_data\\train\\salt\\2020-07-24 22_11_04-images (19) - Windows Photo Viewer.jpg\n",
      "G:\\deep_learning seismic\\Seismic_data\\train\\salt\\2020-07-24 22_11_17-images (20) - Windows Photo Viewer.jpg\n",
      "G:\\deep_learning seismic\\Seismic_data\\train\\salt\\2020-07-24 22_11_33-images (21) - Windows Photo Viewer.jpg\n",
      "G:\\deep_learning seismic\\Seismic_data\\train\\salt\\2020-07-24 22_11_47-images (22) - Windows Photo Viewer.jpg\n",
      "G:\\deep_learning seismic\\Seismic_data\\train\\salt\\2020-07-24 22_11_59-images (23) - Windows Photo Viewer.jpg\n",
      "G:\\deep_learning seismic\\Seismic_data\\train\\salt\\2020-07-24 22_12_09-images (23) - Windows Photo Viewer.jpg\n",
      "G:\\deep_learning seismic\\Seismic_data\\train\\salt\\2020-07-24 22_12_19-images (24) - Windows Photo Viewer.jpg\n",
      "G:\\deep_learning seismic\\Seismic_data\\train\\salt\\2020-07-24 22_12_33-images (25) - Windows Photo Viewer.jpg\n",
      "G:\\deep_learning seismic\\Seismic_data\\train\\salt\\2020-07-24 22_12_47-images (26) - Windows Photo Viewer.jpg\n",
      "G:\\deep_learning seismic\\Seismic_data\\train\\salt\\2020-07-24 22_12_58-images (27) - Windows Photo Viewer.jpg\n",
      "G:\\deep_learning seismic\\Seismic_data\\train\\salt\\2020-07-24 22_13_13-images (28) - Windows Photo Viewer.jpg\n",
      "G:\\deep_learning seismic\\Seismic_data\\train\\salt\\2020-07-24 22_13_48-images (30) - Windows Photo Viewer.jpg\n",
      "G:\\deep_learning seismic\\Seismic_data\\train\\salt\\2020-07-24 22_13_56-images (30) - Windows Photo Viewer.jpg\n",
      "G:\\deep_learning seismic\\Seismic_data\\train\\salt\\2020-07-24 22_14_05-images (30) - Windows Photo Viewer.jpg\n",
      "G:\\deep_learning seismic\\Seismic_data\\train\\salt\\2020-07-24 22_14_12-images (30) - Windows Photo Viewer.jpg\n",
      "G:\\deep_learning seismic\\Seismic_data\\train\\salt\\2020-07-24 22_14_22-images (30) - Windows Photo Viewer.jpg\n",
      "G:\\deep_learning seismic\\Seismic_data\\train\\salt\\2020-07-24 22_14_31-images (31) - Windows Photo Viewer.jpg\n",
      "G:\\deep_learning seismic\\Seismic_data\\train\\salt\\2020-07-24 22_14_40-images (32) - Windows Photo Viewer.jpg\n",
      "G:\\deep_learning seismic\\Seismic_data\\train\\salt\\2020-07-24 22_14_54-images (33) - Windows Photo Viewer.jpg\n",
      "G:\\deep_learning seismic\\Seismic_data\\train\\salt\\2020-07-24 22_15_08-images (34) - Windows Photo Viewer.jpg\n"
     ]
    }
   ],
   "source": [
    "for i in range(len(os.listdir(r\"G:\\deep_learning seismic\\Seismic_data\\train\\salt\"))):\n",
    "    x=os.path.join(\"G:\\\\deep_learning seismic\\\\Seismic_data\\\\train\\\\salt\",os.listdir(r\"G:\\\\deep_learning seismic\\\\Seismic_data\\\\train\\\\salt\")[i])\n",
    "    print(x)\n",
    "    x=io.imread(x)\n",
    "    \n",
    "    x=x.reshape((1,)+x.shape)\n",
    "    i=0\n",
    "    for batch in datagen.flow(x,save_to_dir=r\"G:\\deep\\seismic\\train\\salt\"):\n",
    "        i=i+1\n",
    "        if i>3:\n",
    "            break"
   ]
  },
  {
   "cell_type": "code",
   "execution_count": 13,
   "id": "b4d89fe6",
   "metadata": {},
   "outputs": [
    {
     "name": "stdout",
     "output_type": "stream",
     "text": [
      "G:\\deep_learning seismic\\Seismic_data\\train\\syncline\\2020-07-24 14_07_50-Seismic-trace-image-of-inline-100-of-the-Netherlands-Offshore-F3-Block-dataset-a.jpg\n",
      "G:\\deep_learning seismic\\Seismic_data\\train\\syncline\\2020-07-24 14_08_04-Seismic-trace-image-of-inline-100-of-the-Netherlands-Offshore-F3-Block-dataset-a.jpg\n",
      "G:\\deep_learning seismic\\Seismic_data\\train\\syncline\\2020-07-24 14_09_12-download (2) - Windows Photo Viewer.jpg\n",
      "G:\\deep_learning seismic\\Seismic_data\\train\\syncline\\2020-07-24 14_09_23-download (2) - Windows Photo Viewer.jpg\n",
      "G:\\deep_learning seismic\\Seismic_data\\train\\syncline\\2020-07-24 14_09_41-download (2) - Windows Photo Viewer.jpg\n",
      "G:\\deep_learning seismic\\Seismic_data\\train\\syncline\\2020-07-24 14_09_59-download (3) - Windows Photo Viewer.jpg\n",
      "G:\\deep_learning seismic\\Seismic_data\\train\\syncline\\2020-07-24 14_10_14-download (3) - Windows Photo Viewer.jpg\n",
      "G:\\deep_learning seismic\\Seismic_data\\train\\syncline\\2020-07-24 14_10_33-download (4) - Windows Photo Viewer.jpg\n",
      "G:\\deep_learning seismic\\Seismic_data\\train\\syncline\\2020-07-24 14_10_44-download (4) - Windows Photo Viewer.jpg\n",
      "G:\\deep_learning seismic\\Seismic_data\\train\\syncline\\2020-07-24 14_10_55-download (4) - Windows Photo Viewer.jpg\n",
      "G:\\deep_learning seismic\\Seismic_data\\train\\syncline\\2020-07-24 14_11_09-download - Windows Photo Viewer.jpg\n",
      "G:\\deep_learning seismic\\Seismic_data\\train\\syncline\\2020-07-24 14_11_19-download - Windows Photo Viewer.jpg\n",
      "G:\\deep_learning seismic\\Seismic_data\\train\\syncline\\2020-07-24 14_11_26-download - Windows Photo Viewer.jpg\n",
      "G:\\deep_learning seismic\\Seismic_data\\train\\syncline\\2020-07-24 14_11_37-download - Windows Photo Viewer.jpg\n",
      "G:\\deep_learning seismic\\Seismic_data\\train\\syncline\\2020-07-24 14_11_54-images (1) - Windows Photo Viewer.jpg\n",
      "G:\\deep_learning seismic\\Seismic_data\\train\\syncline\\2020-07-24 14_12_19-images (2) - Windows Photo Viewer.jpg\n",
      "G:\\deep_learning seismic\\Seismic_data\\train\\syncline\\2020-07-24 14_12_37-images (3) - Windows Photo Viewer.jpg\n",
      "G:\\deep_learning seismic\\Seismic_data\\train\\syncline\\2020-07-24 14_12_47-images (3) - Windows Photo Viewer.jpg\n",
      "G:\\deep_learning seismic\\Seismic_data\\train\\syncline\\2020-07-24 14_13_01-images (3) - Windows Photo Viewer.jpg\n",
      "G:\\deep_learning seismic\\Seismic_data\\train\\syncline\\2020-07-24 14_13_26-images - Windows Photo Viewer.jpg\n",
      "G:\\deep_learning seismic\\Seismic_data\\train\\syncline\\2020-07-24 14_13_34-images - Windows Photo Viewer.jpg\n",
      "G:\\deep_learning seismic\\Seismic_data\\train\\syncline\\2020-07-24 14_14_28-download (1) - Windows Photo Viewer.jpg\n",
      "G:\\deep_learning seismic\\Seismic_data\\train\\syncline\\2020-07-24 14_14_49-download (4) - Windows Photo Viewer.jpg\n",
      "G:\\deep_learning seismic\\Seismic_data\\train\\syncline\\2020-07-24 14_15_07-download (8) - Windows Photo Viewer.jpg\n",
      "G:\\deep_learning seismic\\Seismic_data\\train\\syncline\\2020-07-24 14_15_28-download (10) - Windows Photo Viewer.jpg\n",
      "G:\\deep_learning seismic\\Seismic_data\\train\\syncline\\2020-07-24 14_15_37-download (10) - Windows Photo Viewer.jpg\n",
      "G:\\deep_learning seismic\\Seismic_data\\train\\syncline\\2020-07-24 14_15_46-download (10) - Windows Photo Viewer.jpg\n",
      "G:\\deep_learning seismic\\Seismic_data\\train\\syncline\\2020-07-24 14_16_06-download (13) - Windows Photo Viewer.jpg\n",
      "G:\\deep_learning seismic\\Seismic_data\\train\\syncline\\2020-07-24 14_16_20-download (14) - Windows Photo Viewer.jpg\n",
      "G:\\deep_learning seismic\\Seismic_data\\train\\syncline\\2020-07-24 14_16_30-download (14) - Windows Photo Viewer.jpg\n",
      "G:\\deep_learning seismic\\Seismic_data\\train\\syncline\\2020-07-24 14_16_55-images (1) - Windows Photo Viewer.jpg\n",
      "G:\\deep_learning seismic\\Seismic_data\\train\\syncline\\2020-07-24 14_17_29-download (14) - Windows Photo Viewer.jpg\n"
     ]
    }
   ],
   "source": [
    "for i in range(len(os.listdir(r\"G:\\deep_learning seismic\\Seismic_data\\train\\syncline\"))):\n",
    "    x=os.path.join(\"G:\\\\deep_learning seismic\\\\Seismic_data\\\\train\\\\syncline\",os.listdir(r\"G:\\\\deep_learning seismic\\\\Seismic_data\\\\train\\\\syncline\")[i])\n",
    "    print(x)\n",
    "    x=io.imread(x)\n",
    "    \n",
    "    x=x.reshape((1,)+x.shape)\n",
    "    i=0\n",
    "    for batch in datagen.flow(x,save_to_dir=r\"G:\\deep\\seismic\\train\\syncline\"):\n",
    "        i=i+1\n",
    "        if i>3:\n",
    "            break"
   ]
  },
  {
   "cell_type": "code",
   "execution_count": 4,
   "id": "ab9b2bd9",
   "metadata": {},
   "outputs": [
    {
     "data": {
      "text/plain": [
       "array([[[117, 127, 134],\n",
       "        [119, 127, 134],\n",
       "        [117, 125, 132],\n",
       "        ...,\n",
       "        [202, 201, 205],\n",
       "        [201, 202, 206],\n",
       "        [202, 202, 208]],\n",
       "\n",
       "       [[114, 124, 131],\n",
       "        [114, 124, 131],\n",
       "        [115, 123, 130],\n",
       "        ...,\n",
       "        [201, 200, 204],\n",
       "        [199, 200, 204],\n",
       "        [199, 199, 205]],\n",
       "\n",
       "       [[113, 125, 131],\n",
       "        [113, 122, 131],\n",
       "        [113, 122, 131],\n",
       "        ...,\n",
       "        [200, 199, 203],\n",
       "        [197, 198, 202],\n",
       "        [196, 196, 202]],\n",
       "\n",
       "       ...,\n",
       "\n",
       "       [[126, 132, 139],\n",
       "        [125, 131, 138],\n",
       "        [125, 131, 136],\n",
       "        ...,\n",
       "        [ 72,  83, 110],\n",
       "        [ 76,  85, 112],\n",
       "        [ 77,  86, 113]],\n",
       "\n",
       "       [[127, 132, 141],\n",
       "        [126, 132, 139],\n",
       "        [126, 132, 137],\n",
       "        ...,\n",
       "        [ 78,  87, 114],\n",
       "        [ 80,  89, 116],\n",
       "        [ 82,  91, 118]],\n",
       "\n",
       "       [[127, 132, 141],\n",
       "        [127, 133, 140],\n",
       "        [126, 132, 137],\n",
       "        ...,\n",
       "        [ 80,  89, 116],\n",
       "        [ 83,  92, 119],\n",
       "        [ 85,  94, 121]]], dtype=uint8)"
      ]
     },
     "execution_count": 4,
     "metadata": {},
     "output_type": "execute_result"
    }
   ],
   "source": [
    "img=image.load_img(r\"D:\\data\\paper\\3.jpg\")\n",
    "cv2.imread(r\"D:\\data\\paper\\3.jpg\")"
   ]
  },
  {
   "cell_type": "code",
   "execution_count": 14,
   "id": "9cf06f27",
   "metadata": {},
   "outputs": [],
   "source": [
    "train=ImageDataGenerator(rescale=1/255)"
   ]
  },
  {
   "cell_type": "code",
   "execution_count": 15,
   "id": "19c2c4ce",
   "metadata": {},
   "outputs": [
    {
     "name": "stdout",
     "output_type": "stream",
     "text": [
      "Found 938 images belonging to 4 classes.\n",
      "Found 58 images belonging to 4 classes.\n",
      "Found 50 images belonging to 4 classes.\n"
     ]
    }
   ],
   "source": [
    "train2=train.flow_from_directory(r\"G:\\deep\\seismic\\train\",target_size=(200,200),class_mode=\"categorical\")\n",
    "test2=train.flow_from_directory(r\"G:\\deep_learning seismic\\Seismic_data\\test\",target_size=(200,200),class_mode=\"categorical\")\n",
    "val2=train.flow_from_directory(r\"G:\\deep_learning seismic\\Seismic_data\\validation\",target_size=(200,200),class_mode=\"categorical\")\n",
    "##do same for test and validation set"
   ]
  },
  {
   "cell_type": "code",
   "execution_count": 16,
   "id": "049634db",
   "metadata": {},
   "outputs": [
    {
     "data": {
      "text/plain": [
       "{'anticline': 0, 'fault': 1, 'salt': 2, 'syncline': 3}"
      ]
     },
     "execution_count": 16,
     "metadata": {},
     "output_type": "execute_result"
    }
   ],
   "source": [
    "train2.class_indices"
   ]
  },
  {
   "cell_type": "code",
   "execution_count": 17,
   "id": "de35d65d",
   "metadata": {},
   "outputs": [],
   "source": [
    "import numpy as np\n",
    "import keras\n",
    "from keras import Sequential,layers\n",
    "from keras.models import Model\n",
    "from keras.layers import Dense, Input\n",
    "from keras.layers import Conv2D, MaxPooling2D, Dropout, Flatten\n",
    "from keras import backend as k"
   ]
  },
  {
   "cell_type": "code",
   "execution_count": 41,
   "id": "b6551c3e",
   "metadata": {},
   "outputs": [],
   "source": [
    "model=Sequential()\n",
    "num_classes=2\n",
    "model = keras.Sequential(\n",
    "    [\n",
    "        keras.Input(shape=(200,200,3)),\n",
    "        layers.Conv2D(32, kernel_size=(3, 3), activation=\"relu\"),\n",
    "        layers.MaxPooling2D(pool_size=(2, 2)),\n",
    "        layers.Conv2D(64, kernel_size=(3, 3), activation=\"relu\"),\n",
    "        layers.MaxPooling2D(pool_size=(2, 2)),\n",
    "        layers.Flatten(),\n",
    "        layers.Dense(100, activation=\"relu\"),\n",
    "        layers.Dense(40, activation=\"relu\"),\n",
    "        \n",
    "        layers.Dense(4, activation=\"softmax\"),\n",
    "    ]\n",
    ")"
   ]
  },
  {
   "cell_type": "code",
   "execution_count": 42,
   "id": "05d55591",
   "metadata": {},
   "outputs": [],
   "source": [
    "model.compile(loss=\"categorical_crossentropy\", optimizer=\"Adam\", metrics=[\"accuracy\"])"
   ]
  },
  {
   "cell_type": "code",
   "execution_count": 43,
   "id": "49536755",
   "metadata": {},
   "outputs": [
    {
     "name": "stdout",
     "output_type": "stream",
     "text": [
      "Epoch 1/10\n",
      "30/30 [==============================] - 51s 2s/step - loss: 2.1488 - accuracy: 0.3081 - val_loss: 1.3560 - val_accuracy: 0.3400\n",
      "Epoch 2/10\n",
      "30/30 [==============================] - 50s 2s/step - loss: 1.2295 - accuracy: 0.4499 - val_loss: 1.3291 - val_accuracy: 0.4000\n",
      "Epoch 3/10\n",
      "30/30 [==============================] - 50s 2s/step - loss: 1.0608 - accuracy: 0.5480 - val_loss: 1.2175 - val_accuracy: 0.3600\n",
      "Epoch 4/10\n",
      "30/30 [==============================] - 54s 2s/step - loss: 0.7739 - accuracy: 0.7090 - val_loss: 1.3491 - val_accuracy: 0.4600\n",
      "Epoch 5/10\n",
      "30/30 [==============================] - 56s 2s/step - loss: 0.4751 - accuracy: 0.8305 - val_loss: 1.6101 - val_accuracy: 0.4400\n",
      "Epoch 6/10\n",
      "30/30 [==============================] - 55s 2s/step - loss: 0.2740 - accuracy: 0.9296 - val_loss: 2.2949 - val_accuracy: 0.4200\n",
      "Epoch 7/10\n",
      "30/30 [==============================] - 79s 3s/step - loss: 0.1061 - accuracy: 0.9776 - val_loss: 2.5167 - val_accuracy: 0.4400\n",
      "Epoch 8/10\n",
      "30/30 [==============================] - 75s 2s/step - loss: 0.0792 - accuracy: 0.9808 - val_loss: 3.2380 - val_accuracy: 0.4200\n",
      "Epoch 9/10\n",
      "30/30 [==============================] - 72s 2s/step - loss: 0.0668 - accuracy: 0.9829 - val_loss: 2.5733 - val_accuracy: 0.4800\n",
      "Epoch 10/10\n",
      "30/30 [==============================] - 69s 2s/step - loss: 0.1241 - accuracy: 0.9744 - val_loss: 4.0979 - val_accuracy: 0.4200\n"
     ]
    }
   ],
   "source": [
    "hist=model.fit(train2,batch_size=100,epochs=10,validation_data=val2)"
   ]
  },
  {
   "cell_type": "code",
   "execution_count": 46,
   "id": "d5ca5bef",
   "metadata": {},
   "outputs": [
    {
     "name": "stdout",
     "output_type": "stream",
     "text": [
      "2/2 [==============================] - 1s 361ms/step - loss: 6.2029 - accuracy: 0.4138\n"
     ]
    },
    {
     "data": {
      "text/plain": [
       "[6.202910423278809, 0.4137931168079376]"
      ]
     },
     "execution_count": 46,
     "metadata": {},
     "output_type": "execute_result"
    }
   ],
   "source": [
    "model.evaluate(test2)"
   ]
  },
  {
   "cell_type": "code",
   "execution_count": 52,
   "id": "4e807cb7",
   "metadata": {},
   "outputs": [
    {
     "data": {
      "text/plain": [
       "Text(0, 0.5, 'loss')"
      ]
     },
     "execution_count": 52,
     "metadata": {},
     "output_type": "execute_result"
    },
    {
     "data": {
      "image/png": "[encoded data removed]",
      "text/plain": [
       "<Figure size 1080x720 with 1 Axes>"
      ]
     },
     "metadata": {
      "needs_background": "light"
     },
     "output_type": "display_data"
    }
   ],
   "source": [
    "plt.figure(figsize=(15,10))\n",
    "\n",
    "plt.plot(hist.history[\"loss\"])\n",
    "plt.xlabel(\"epochs\")\n",
    "plt.ylabel(\"loss\")\n",
    "#plt.plot(hist.history[\"val_loss\"])\n"
   ]
  },
  {
   "cell_type": "markdown",
   "id": "8077e0e2",
   "metadata": {},
   "source": [
    "# Seismicdataset"
   ]
  },
  {
   "cell_type": "code",
   "execution_count": 72,
   "id": "e45350dd",
   "metadata": {},
   "outputs": [
    {
     "data": {
      "text/plain": [
       "58"
      ]
     },
     "execution_count": 72,
     "metadata": {},
     "output_type": "execute_result"
    }
   ],
   "source": [
    "test2.n"
   ]
  },
  {
   "cell_type": "code",
   "execution_count": null,
   "id": "1306aa49",
   "metadata": {},
   "outputs": [],
   "source": []
  }
 ],
 "metadata": {
  "kernelspec": {
   "display_name": "Python 3",
   "language": "python",
   "name": "python3"
  },
  "language_info": {
   "codemirror_mode": {
    "name": "ipython",
    "version": 3
   },
   "file_extension": ".py",
   "mimetype": "text/x-python",
   "name": "python",
   "nbconvert_exporter": "python",
   "pygments_lexer": "ipython3",
   "version": "3.8.8"
  }
 },
 "nbformat": 4,
 "nbformat_minor": 5
}
